{
 "cells": [
  {
   "cell_type": "code",
   "execution_count": 2,
   "metadata": {},
   "outputs": [],
   "source": [
    "import numpy as np\n",
    "from numpy import linalg\n",
    "# import rospy\n",
    "# from moveit_msgs.srv import GetPositionIK, GetPositionIKRequest, GetPositionIKResponse\n",
    "# from geometry_msgs.msg import PoseStamped\n",
    "# from moveit_commander import MoveGroupCommander"
   ]
  },
  {
   "cell_type": "code",
   "execution_count": 3,
   "metadata": {},
   "outputs": [],
   "source": [
    "# Code that parses the move command\n",
    "# Assume the command will come in two lines one with removing pieces the other with moving pieces\n",
    "\n",
    "def get_move_data(move_string,canmove):\n",
    "    # Assume Remove will come in as R-##-##\n",
    "    # Asume Move will come in as M-##-##\n",
    "    # Assume move_string is of the form [remove,move]\n",
    "    if canmove == 1:\n",
    "        if move_string[0][0] == 'R':\n",
    "            remove_location = move_string[0][2:4]\n",
    "            remove_destination = move_string[0][5:7]\n",
    "        else:\n",
    "            remove_location = 'N'\n",
    "    if canmove == 1:\n",
    "        if move_string[1][0] == 'M':\n",
    "            piece_location = move_string[1][2:4]\n",
    "            piece_destination = move_string[1][5:7]\n",
    "            \n",
    "        else:\n",
    "            print('Errors Occured')\n",
    "            \n",
    "    return(remove_location,remove_destination,piece_location,piece_destination)\n",
    "            \n",
    "        \n",
    "        "
   ]
  },
  {
   "cell_type": "code",
   "execution_count": 4,
   "metadata": {},
   "outputs": [
    {
     "data": {
      "text/plain": [
       "('G4', '00', 'E4', 'G4')"
      ]
     },
     "execution_count": 4,
     "metadata": {},
     "output_type": "execute_result"
    }
   ],
   "source": [
    "# Testing get_move_data Function\n",
    "\n",
    "move_string = []\n",
    "move_string.append('R-G4-00')\n",
    "move_string.append('M-E4-G4')\n",
    "canmove = 1\n",
    "\n",
    "get_move_data(move_string,canmove)"
   ]
  },
  {
   "cell_type": "code",
   "execution_count": 5,
   "metadata": {},
   "outputs": [],
   "source": [
    "# Defining the Grid Space\n",
    "# Chess_Board_Grid_Space = cbgs\n",
    "# Origin deviation of the form [x,y,theta]\n",
    "\n",
    "def cbgs(origin_deviation):\n",
    "    cb = np.array([[ [-.175,.175], [-.125,.175], [-.075,.175], [-.025,.175], [.025,.175], [.075,.175], [.125,.175], [.175,.175] ],\n",
    "                   [ [-.175,.125], [-.125,.125], [-.075,.125], [-.025,.125], [.025,.125], [.075,.125], [.125,.125], [.175,.125] ], \n",
    "                   [ [-.175,.075], [-.125,.075], [-.075,.075], [-.025,.075], [.025,.075], [.075,.075], [.125,.075], [.175,.075] ],\n",
    "                   [ [-.175,.025], [-.125,.025], [-.075,.025], [-.025,.025], [.025,.025], [.075,.025], [.125,.025], [.175,.025] ],\n",
    "                   [ [-.175,-.025], [-.125,-.025], [-.075,-.025], [-.025,-.025], [.025,-.025], [.075,-.025], [.125,-.025], [.175,-.025] ],\n",
    "                   [ [-.175,-.075], [-.125,-.075], [-.075,-.075], [-.025,-.075], [.025,-.075], [.075,-.075], [.125,-.075], [.175,-.075] ],\n",
    "                   [ [-.175,-.125], [-.125,-.125], [-.075,-.125], [-.025,-.125], [.025,-.125], [.075,-.125], [.125,-.125], [.175,-.125] ],\n",
    "                   [ [-.175,-.175], [-.125,-.175], [-.075,-.175], [-.025,-.175], [.025,-.175], [.075,-.175], [.125,-.175], [.175,-.175] ] ])\n",
    "    \n",
    "    if origin_deviation[0] != 0 or origin_deviation[1] != 0: \n",
    "        for i in range(cb.shape[0]):\n",
    "            for j in range(cb.shape[1]):\n",
    "                cb[i][j] = cb[i][j] + np.array([origin_deviation[0],origin_deviation[1]])\n",
    "                \n",
    "    if origin_deviation[2] != 0:\n",
    "        theta = np.deg2rad(origin_deviation[2])        \n",
    "        \n",
    "        for i in range(cb.shape[0]):\n",
    "            for j in range(cb.shape[1]):\n",
    "                r = np.sqrt(cb[i][j][0]**2 + cb[i][j][1]**2)\n",
    "                if i<=3 and j<=3:\n",
    "                    angle = np.arccos(np.abs(cb[i][j][0]/r))\n",
    "                    theta2 = theta + angle + np.pi/2 \n",
    "                    cb[i][j] = np.array([r*np.cos(theta2),r*np.sin(theta2)])\n",
    "                if i<=3 and j>=4:\n",
    "                    angle = np.arccos(np.abs(cb[i][j][0]/r))                    \n",
    "                    theta1 = theta + angle                  \n",
    "                    cb[i][j] = np.array([r*np.cos(theta1),r*np.sin(theta1)])                    \n",
    "                if i>=4 and j<=3:\n",
    "                    angle = np.arccos(np.abs(cb[i][j][0]/r))                    \n",
    "                    theta3 = theta + angle + np.pi\n",
    "                    cb[i][j] = np.array([r*np.cos(theta3),r*np.sin(theta3)])                    \n",
    "                if i >=4 and j>=4:\n",
    "                    angle = np.arccos(np.abs(cb[i][j][0]/r))                    \n",
    "                    theta4 = theta + angle + np.pi*(3/2)\n",
    "                    cb[i][j] = np.array([r*np.cos(theta4),r*np.sin(theta4)])                    \n",
    "                \n",
    "    else:\n",
    "        cb = cb\n",
    "        \n",
    "    return(cb)           \n",
    "                \n",
    "    \n",
    "                   \n",
    "    "
   ]
  },
  {
   "cell_type": "code",
   "execution_count": 6,
   "metadata": {},
   "outputs": [],
   "source": [
    "cb = cbgs([2,1,5])"
   ]
  },
  {
   "cell_type": "code",
   "execution_count": 7,
   "metadata": {},
   "outputs": [
    {
     "name": "stdout",
     "output_type": "stream",
     "text": [
      "[-0.94323216  2.12814989]\n",
      "[4, 6]\n"
     ]
    }
   ],
   "source": [
    "# Testing Dictionary\n",
    "origin_deviation = [2, 1, 5]\n",
    "gridmapping = {'A8':[0,0], 'B8':[0,1], 'C8':[0,2], 'D8':[0,3], \n",
    "               'E8':[0,4], 'F8':[0,5], 'G8':[0,6], 'H8':[0,7],\n",
    "               \n",
    "               'A7':[1,0], 'B7':[1,1], 'C7':[1,2], 'D7':[1,3], \n",
    "               'E7':[1,4], 'F7':[1,5], 'G7':[1,6], 'H7':[1,7], \n",
    "              \n",
    "               'A6':[2,0], 'B6':[2,1], 'C6':[2,2], 'D6':[2,3], \n",
    "               'E6':[2,4], 'F6':[2,5], 'G6':[2,6], 'H6':[2,7],\n",
    "              \n",
    "               'A5':[3,0], 'B5':[3,1], 'C5':[3,2], 'D5':[3,3], \n",
    "               'E5':[3,4], 'F5':[3,5], 'G5':[3,6], 'H5':[3,7],\n",
    "              \n",
    "               'A4':[4,0], 'B4':[4,1], 'C4':[4,2], 'D4':[4,3], \n",
    "               'E4':[4,4], 'F4':[4,5], 'G4':[4,6], 'H4':[4,7], \n",
    "              \n",
    "               'A3':[5,0], 'B3':[5,1], 'C3':[5,2], 'D3':[5,3], \n",
    "               'E3':[5,4], 'F3':[5,5], 'G3':[5,6], 'H3':[5,7], \n",
    "              \n",
    "               'A2':[6,0], 'B2':[6,1], 'C2':[6,2], 'D2':[6,3], \n",
    "               'E2':[6,4], 'F2':[6,5], 'G2':[6,6], 'H2':[6,7], \n",
    "              \n",
    "               'A1':[7,0], 'B1':[7,1], 'C1':[7,2], 'D1':[7,3], \n",
    "               'E1':[7,4], 'F1':[7,5], 'G1':[7,6], 'H1':[7,7],\n",
    "              \n",
    "               '00':[3,3]  }\n",
    "\n",
    "print(cb[gridmapping[get_move_data(move_string,canmove)[1]][0]][gridmapping[get_move_data(move_string,canmove)[1]][1]] + [.25,.25])\n",
    "print(gridmapping['G4'])"
   ]
  },
  {
   "cell_type": "code",
   "execution_count": 8,
   "metadata": {},
   "outputs": [],
   "source": [
    "# Created Dictionary Function that returns a set of coordinates\n",
    "# Coordinates come in a 1x3 array where the 0th index is remove coordinates \n",
    "# 1st index is the move from coordinates\n",
    "# 2nd index is move to coordinates\n",
    "\n",
    "def coordinates(origin_deviation, move_string, canmove):\n",
    "    gridmapping = {'A8':[0,0], 'B8':[0,1], 'C8':[0,2], 'D8':[0,3], \n",
    "                   'E8':[0,4], 'F8':[0,5], 'G8':[0,6], 'H8':[0,7],\n",
    "\n",
    "                   'A7':[1,0], 'B7':[1,1], 'C7':[1,2], 'D7':[1,3], \n",
    "                   'E7':[1,4], 'F7':[1,5], 'G7':[1,6], 'H7':[1,7], \n",
    "\n",
    "                   'A6':[2,0], 'B6':[2,1], 'C6':[2,2], 'D6':[2,3], \n",
    "                   'E6':[2,4], 'F6':[2,5], 'G6':[2,6], 'H6':[2,7],\n",
    "\n",
    "                   'A5':[3,0], 'B5':[3,1], 'C5':[3,2], 'D5':[3,3], \n",
    "                   'E5':[3,4], 'F5':[3,5], 'G5':[3,6], 'H5':[3,7],\n",
    "\n",
    "                   'A4':[4,0], 'B4':[4,1], 'C4':[4,2], 'D4':[4,3], \n",
    "                   'E4':[4,4], 'F4':[4,5], 'G4':[4,6], 'H4':[4,7], \n",
    "\n",
    "                   'A3':[5,0], 'B3':[5,1], 'C3':[5,2], 'D3':[5,3], \n",
    "                   'E3':[5,4], 'F3':[5,5], 'G3':[5,6], 'H3':[5,7], \n",
    "\n",
    "                   'A2':[6,0], 'B2':[6,1], 'C2':[6,2], 'D2':[6,3], \n",
    "                   'E2':[6,4], 'F2':[6,5], 'G2':[6,6], 'H2':[6,7], \n",
    "\n",
    "                   'A1':[7,0], 'B1':[7,1], 'C1':[7,2], 'D1':[7,3], \n",
    "                   'E1':[7,4], 'F1':[7,5], 'G1':[7,6], 'H1':[7,7], \n",
    "\n",
    "                   '00':[3,3]                                      }\n",
    "    \n",
    "    cb = cbgs(origin_deviation)\n",
    "    coor_remove_from = cb[gridmapping[get_move_data(move_string,canmove)[0]][0]][gridmapping[get_move_data(move_string,canmove)[0]][1]] + [.7535,.1415]\n",
    "    coor_remove_to = cb[gridmapping[get_move_data(move_string,canmove)[1]][0]][gridmapping[get_move_data(move_string,canmove)[1]][1]] + [.25,.25]   \n",
    "    coor_move_from = cb[gridmapping[get_move_data(move_string,canmove)[2]][0]][gridmapping[get_move_data(move_string,canmove)[2]][1]]\n",
    "    coor_move_to = cb[gridmapping[get_move_data(move_string,canmove)[3]][0]][gridmapping[get_move_data(move_string,canmove)[3]][1]]\n",
    "    return([coor_remove_from,coor_remove_to,coor_move_from,coor_move_to])"
   ]
  },
  {
   "cell_type": "code",
   "execution_count": 9,
   "metadata": {},
   "outputs": [
    {
     "name": "stdout",
     "output_type": "stream",
     "text": [
      "[ 1.90999578 -1.89043688]\n"
     ]
    }
   ],
   "source": [
    "# Testing Getting Coordinate Data from a move_string with origin devation\n",
    "\n",
    "move_string = []\n",
    "move_string.append('R-G4-00')\n",
    "move_string.append('M-E4-G4')\n",
    "canmove = 1\n",
    "origin_deviation=[2,1,5]\n",
    "movement_coordinates = (coordinates(origin_deviation,move_string,canmove))\n",
    "print(movement_coordinates[0])"
   ]
  },
  {
   "cell_type": "code",
   "execution_count": 81,
   "metadata": {
    "scrolled": true
   },
   "outputs": [],
   "source": [
    "def movement(des_coor):\n",
    "    #Wait for the IK service to become available\n",
    "    rospy.wait_for_service('compute_ik')\n",
    "    rospy.init_node('service_query')\n",
    "    \n",
    "    #Create the function used to call the service\n",
    "    compute_ik = rospy.ServiceProxy('compute_ik', GetPositionIK)\n",
    "    \n",
    "    while not rospy.is_shutdown():\n",
    "        \n",
    "        #Construct the request\n",
    "        request = GetPositionIKRequest()\n",
    "        request.ik_request.group_name = \"right_arm\"\n",
    "        request.ik_request.ik_link_name = \"right_gripper\"\n",
    "        request.ik_request.attempts = 20\n",
    "        request.ik_request.pose_stamped.header.frame_id = \"base\"\n",
    "        \n",
    "        #Set the desired orientation for the end effector HERE\n",
    "        request.ik_request.pose_stamped.pose.position.x = des_coor[0]\n",
    "        request.ik_request.pose_stamped.pose.position.y = des_coor[1]\n",
    "        request.ik_request.pose_stamped.pose.position.z = 0.0 # this should be a found constant        \n",
    "        # Should be constant Determined by Experiment\n",
    "        request.ik_request.pose_stamped.pose.orientation.x = 0.0 \n",
    "        request.ik_request.pose_stamped.pose.orientation.y = 1.0\n",
    "        request.ik_request.pose_stamped.pose.orientation.z = 0.0\n",
    "        request.ik_request.pose_stamped.pose.orientation.w = 0.0\n",
    "        \n",
    "        try:\n",
    "            #Send the request to the service\n",
    "            response = compute_ik(request)\n",
    "            \n",
    "            #Print the response HERE\n",
    "            print(response)\n",
    "            group = MoveGroupCommander(\"right_arm\")\n",
    "\n",
    "            # Setting position and orientation target\n",
    "            group.set_pose_target(request.ik_request.pose_stamped)\n",
    "\n",
    "            # Plan IK and execute\n",
    "            group.go()\n",
    "            \n",
    "        except [rospy.ServiceException, e]:\n",
    "            print(\"Service call failed: %s\"%e)"
   ]
  },
  {
   "cell_type": "code",
   "execution_count": 82,
   "metadata": {},
   "outputs": [
    {
     "ename": "NameError",
     "evalue": "name 'rospy' is not defined",
     "output_type": "error",
     "traceback": [
      "\u001b[1;31m---------------------------------------------------------------------------\u001b[0m",
      "\u001b[1;31mNameError\u001b[0m                                 Traceback (most recent call last)",
      "\u001b[1;32m<ipython-input-82-99c9ee4aac88>\u001b[0m in \u001b[0;36m<module>\u001b[1;34m()\u001b[0m\n\u001b[0;32m      8\u001b[0m \u001b[0mdes_coor\u001b[0m \u001b[1;33m=\u001b[0m \u001b[0mmovement_coordinates\u001b[0m\u001b[1;33m[\u001b[0m\u001b[1;36m0\u001b[0m\u001b[1;33m]\u001b[0m\u001b[1;33m\u001b[0m\u001b[0m\n\u001b[0;32m      9\u001b[0m \u001b[1;33m\u001b[0m\u001b[0m\n\u001b[1;32m---> 10\u001b[1;33m \u001b[0mmovement\u001b[0m\u001b[1;33m(\u001b[0m\u001b[0mdes_coor\u001b[0m\u001b[1;33m)\u001b[0m\u001b[1;33m\u001b[0m\u001b[0m\n\u001b[0m",
      "\u001b[1;32m<ipython-input-81-37e574ca4b19>\u001b[0m in \u001b[0;36mmovement\u001b[1;34m(des_coor)\u001b[0m\n\u001b[0;32m      1\u001b[0m \u001b[1;32mdef\u001b[0m \u001b[0mmovement\u001b[0m\u001b[1;33m(\u001b[0m\u001b[0mdes_coor\u001b[0m\u001b[1;33m)\u001b[0m\u001b[1;33m:\u001b[0m\u001b[1;33m\u001b[0m\u001b[0m\n\u001b[0;32m      2\u001b[0m     \u001b[1;31m#Wait for the IK service to become available\u001b[0m\u001b[1;33m\u001b[0m\u001b[1;33m\u001b[0m\u001b[0m\n\u001b[1;32m----> 3\u001b[1;33m     \u001b[0mrospy\u001b[0m\u001b[1;33m.\u001b[0m\u001b[0mwait_for_service\u001b[0m\u001b[1;33m(\u001b[0m\u001b[1;34m'compute_ik'\u001b[0m\u001b[1;33m)\u001b[0m\u001b[1;33m\u001b[0m\u001b[0m\n\u001b[0m\u001b[0;32m      4\u001b[0m     \u001b[0mrospy\u001b[0m\u001b[1;33m.\u001b[0m\u001b[0minit_node\u001b[0m\u001b[1;33m(\u001b[0m\u001b[1;34m'service_query'\u001b[0m\u001b[1;33m)\u001b[0m\u001b[1;33m\u001b[0m\u001b[0m\n\u001b[0;32m      5\u001b[0m \u001b[1;33m\u001b[0m\u001b[0m\n",
      "\u001b[1;31mNameError\u001b[0m: name 'rospy' is not defined"
     ]
    }
   ],
   "source": [
    "# If all above is correct running this command will move the robot correctly\n",
    "move_string = []\n",
    "move_string.append('R-G4-00')\n",
    "move_string.append('M-E4-G4')\n",
    "canmove = 1\n",
    "origin_deviation=[0,0,0]\n",
    "movement_coordinates = (coordinates(origin_deviation,move_string,canmove))\n",
    "des_coor = movement_coordinates[0]\n",
    "\n",
    "movement(des_coor)"
   ]
  },
  {
   "cell_type": "code",
   "execution_count": null,
   "metadata": {},
   "outputs": [],
   "source": []
  }
 ],
 "metadata": {
  "kernelspec": {
   "display_name": "Python 3",
   "language": "python",
   "name": "python3"
  },
  "language_info": {
   "codemirror_mode": {
    "name": "ipython",
    "version": 3
   },
   "file_extension": ".py",
   "mimetype": "text/x-python",
   "name": "python",
   "nbconvert_exporter": "python",
   "pygments_lexer": "ipython3",
   "version": "3.6.4"
  }
 },
 "nbformat": 4,
 "nbformat_minor": 2
}
