{
 "cells": [
  {
   "cell_type": "code",
   "execution_count": 6,
   "metadata": {},
   "outputs": [],
   "source": [
    "import numpy as np\n"
   ]
  },
  {
   "cell_type": "code",
   "execution_count": 7,
   "metadata": {},
   "outputs": [],
   "source": [
    "# Code that parses the move command\n",
    "# Assume the command will come in two lines one with removing pieces the other with moving pieces\n",
    "\n",
    "def get_move_data(move_string,canmove):\n",
    "    # Assume Remove will come in as R-##-##\n",
    "    # Asume Move will come in as M-##-##\n",
    "    # Assume move_string is of the form [remove,move]\n",
    "    if canmove == 1:\n",
    "        if move_string[0][0] == 'R':\n",
    "            remove_location = move_string[0][2:4]\n",
    "        else :\n",
    "            remove_location = 'N'\n",
    "    if canmove == 1:\n",
    "        if move_string[1][0] == 'M':\n",
    "            piece_location = move_string[1][2:4]\n",
    "            piece_destination = move_string[1][5:7]\n",
    "            \n",
    "        else:\n",
    "            print('Errors Occured')\n",
    "            \n",
    "    return(remove_location,piece_location,piece_destination)\n",
    "            \n",
    "        \n",
    "        "
   ]
  },
  {
   "cell_type": "code",
   "execution_count": 8,
   "metadata": {},
   "outputs": [
    {
     "data": {
      "text/plain": [
       "('G4', 'E4', 'G4')"
      ]
     },
     "execution_count": 8,
     "metadata": {},
     "output_type": "execute_result"
    }
   ],
   "source": [
    "move_string = []\n",
    "move_string.append('R-G4-00')\n",
    "move_string.append('M-E4-G4')\n",
    "canmove = 1\n",
    "\n",
    "get_move_data(move_string,canmove)"
   ]
  },
  {
   "cell_type": "code",
   "execution_count": null,
   "metadata": {},
   "outputs": [],
   "source": []
  }
 ],
 "metadata": {
  "kernelspec": {
   "display_name": "Python 3",
   "language": "python",
   "name": "python3"
  },
  "language_info": {
   "codemirror_mode": {
    "name": "ipython",
    "version": 3
   },
   "file_extension": ".py",
   "mimetype": "text/x-python",
   "name": "python",
   "nbconvert_exporter": "python",
   "pygments_lexer": "ipython3",
   "version": "3.6.4"
  }
 },
 "nbformat": 4,
 "nbformat_minor": 2
}
