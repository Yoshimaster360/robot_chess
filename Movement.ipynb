{
 "cells": [
  {
   "cell_type": "code",
   "execution_count": 2,
   "metadata": {},
   "outputs": [],
   "source": [
    "import numpy as np\n"
   ]
  },
  {
   "cell_type": "code",
   "execution_count": 3,
   "metadata": {},
   "outputs": [],
   "source": [
    "# Code that parses the move command\n",
    "# Assume the command will come in two lines one with removing pieces the other with moving pieces\n",
    "\n",
    "def get_move_data(move_string,canmove):\n",
    "    # Assume Remove will come in as R-##-##\n",
    "    # Asume Move will come in as M-##-##\n",
    "    # Assume move_string is of the form [remove,move]\n",
    "    if canmove == 1:\n",
    "        if move_string[0][0] == 'R':\n",
    "            remove_location = move_string[0][2:4]\n",
    "        else :\n",
    "            remove_location = 'N'\n",
    "    if canmove == 1:\n",
    "        if move_string[1][0] == 'M':\n",
    "            piece_location = move_string[1][2:4]\n",
    "            piece_destination = move_string[1][5:7]\n",
    "            \n",
    "        else:\n",
    "            print('Errors Occured')\n",
    "            \n",
    "    return(remove_location,piece_location,piece_destination)\n",
    "            \n",
    "        \n",
    "        "
   ]
  },
  {
   "cell_type": "code",
   "execution_count": 4,
   "metadata": {},
   "outputs": [
    {
     "data": {
      "text/plain": [
       "('G4', 'E4', 'G4')"
      ]
     },
     "execution_count": 4,
     "metadata": {},
     "output_type": "execute_result"
    }
   ],
   "source": [
    "move_string = []\n",
    "move_string.append('R-G4-00')\n",
    "move_string.append('M-E4-G4')\n",
    "canmove = 1\n",
    "\n",
    "get_move_data(move_string,canmove)"
   ]
  },
  {
   "cell_type": "code",
   "execution_count": 31,
   "metadata": {},
   "outputs": [],
   "source": [
    "# Defining the Grid Space\n",
    "# Chess_Board_Grid_Space = cbgs\n",
    "# Origin deviation of the form [x,y,theta]\n",
    "\n",
    "def cbgs(origin_deviation):\n",
    "    cb = np.array([[ [-.175,.175], [-.125,.175], [-.075,.175], [-.025,.175], [.025,.175], [.075,.175], [.125,.175], [.175,.175] ],\n",
    "                   [ [-.175,.125], [-.125,.125], [-.075,.125], [-.025,.125], [.025,.125], [.075,.125], [.125,.125], [.175,.125] ], \n",
    "                   [ [-.175,.075], [-.125,.075], [-.075,.075], [-.025,.075], [.025,.075], [.075,.075], [.125,.075], [.175,.075] ],\n",
    "                   [ [-.175,.025], [-.125,.025], [-.075,.025], [-.025,.025], [.025,.025], [.075,.025], [.125,.025], [.175,.025] ],\n",
    "                   [ [-.175,-.025], [-.125,-.025], [-.075,-.025], [-.025,-.025], [.025,-.025], [.075,-.025], [.125,-.025], [.175,-.025] ],\n",
    "                   [ [-.175,-.075], [-.125,-.075], [-.075,-.075], [-.025,-.075], [.025,-.075], [.075,-.075], [.125,-.075], [.175,-.075] ],\n",
    "                   [ [-.175,-.125], [-.125,-.125], [-.075,-.125], [-.025,-.125], [.025,-.125], [.075,-.125], [.125,-.125], [.175,-.125] ],\n",
    "                   [ [-.175,-.175], [-.125,-.175], [-.075,-.175], [-.025,-.175], [.025,-.175], [.075,-.175], [.125,-.175], [.175,-.175] ] ])\n",
    "    \n",
    "    if origin_deviation[0] != 0 or origin_deviation[1] != 0: \n",
    "        for i in range(cb.shape[0]):\n",
    "            for j in range(cb.shape[1]):\n",
    "                cb[i][j] = cb[i][j] + np.array([origin_deviation[0],origin_deviation[1]])\n",
    "                \n",
    "    if origin_deviation[2] != 0:\n",
    "        theta = np.deg2rad(origin_deviation[2])        \n",
    "        \n",
    "        for i in range(cb.shape[0]):\n",
    "            for j in range(cb.shape[1]):\n",
    "                r = np.sqrt(cb[i][j][0]**2 + cb[i][j][1]**2)\n",
    "                if i<=3 and j<=3:\n",
    "                    angle = np.arccos(np.abs(cb[i][j][0]/r))\n",
    "                    theta2 = theta + angle + np.pi/2 \n",
    "                    cb[i][j] = np.array([r*np.cos(theta2),r*np.sin(theta2)])\n",
    "                if i<=3 and j>=4:\n",
    "                    angle = np.arccos(np.abs(cb[i][j][0]/r))                    \n",
    "                    theta1 = theta + angle                  \n",
    "                    cb[i][j] = np.array([r*np.cos(theta1),r*np.sin(theta1)])                    \n",
    "                if i>=4 and j<=3:\n",
    "                    angle = np.arccos(np.abs(cb[i][j][0]/r))                    \n",
    "                    theta3 = theta + angle + np.pi\n",
    "                    cb[i][j] = np.array([r*np.cos(theta3),r*np.sin(theta3)])                    \n",
    "                if i >=4 and j>=4:\n",
    "                    angle = np.arccos(np.abs(cb[i][j][0]/r))                    \n",
    "                    theta4 = theta + angle + np.pi*(3/2)\n",
    "                    cb[i][j] = np.array([r*np.cos(theta4),r*np.sin(theta4)])                    \n",
    "                \n",
    "    else:\n",
    "        cb = cb\n",
    "        \n",
    "    return(cb)           \n",
    "                \n",
    "    \n",
    "                   \n",
    "    "
   ]
  },
  {
   "cell_type": "code",
   "execution_count": 34,
   "metadata": {},
   "outputs": [
    {
     "data": {
      "text/plain": [
       "array([[[-0.175,  0.175],\n",
       "        [-0.125,  0.175],\n",
       "        [-0.075,  0.175],\n",
       "        [-0.025,  0.175],\n",
       "        [ 0.025,  0.175],\n",
       "        [ 0.075,  0.175],\n",
       "        [ 0.125,  0.175],\n",
       "        [ 0.175,  0.175]],\n",
       "\n",
       "       [[-0.175,  0.125],\n",
       "        [-0.125,  0.125],\n",
       "        [-0.075,  0.125],\n",
       "        [-0.025,  0.125],\n",
       "        [ 0.025,  0.125],\n",
       "        [ 0.075,  0.125],\n",
       "        [ 0.125,  0.125],\n",
       "        [ 0.175,  0.125]],\n",
       "\n",
       "       [[-0.175,  0.075],\n",
       "        [-0.125,  0.075],\n",
       "        [-0.075,  0.075],\n",
       "        [-0.025,  0.075],\n",
       "        [ 0.025,  0.075],\n",
       "        [ 0.075,  0.075],\n",
       "        [ 0.125,  0.075],\n",
       "        [ 0.175,  0.075]],\n",
       "\n",
       "       [[-0.175,  0.025],\n",
       "        [-0.125,  0.025],\n",
       "        [-0.075,  0.025],\n",
       "        [-0.025,  0.025],\n",
       "        [ 0.025,  0.025],\n",
       "        [ 0.075,  0.025],\n",
       "        [ 0.125,  0.025],\n",
       "        [ 0.175,  0.025]],\n",
       "\n",
       "       [[-0.175, -0.025],\n",
       "        [-0.125, -0.025],\n",
       "        [-0.075, -0.025],\n",
       "        [-0.025, -0.025],\n",
       "        [ 0.025, -0.025],\n",
       "        [ 0.075, -0.025],\n",
       "        [ 0.125, -0.025],\n",
       "        [ 0.175, -0.025]],\n",
       "\n",
       "       [[-0.175, -0.075],\n",
       "        [-0.125, -0.075],\n",
       "        [-0.075, -0.075],\n",
       "        [-0.025, -0.075],\n",
       "        [ 0.025, -0.075],\n",
       "        [ 0.075, -0.075],\n",
       "        [ 0.125, -0.075],\n",
       "        [ 0.175, -0.075]],\n",
       "\n",
       "       [[-0.175, -0.125],\n",
       "        [-0.125, -0.125],\n",
       "        [-0.075, -0.125],\n",
       "        [-0.025, -0.125],\n",
       "        [ 0.025, -0.125],\n",
       "        [ 0.075, -0.125],\n",
       "        [ 0.125, -0.125],\n",
       "        [ 0.175, -0.125]],\n",
       "\n",
       "       [[-0.175, -0.175],\n",
       "        [-0.125, -0.175],\n",
       "        [-0.075, -0.175],\n",
       "        [-0.025, -0.175],\n",
       "        [ 0.025, -0.175],\n",
       "        [ 0.075, -0.175],\n",
       "        [ 0.125, -0.175],\n",
       "        [ 0.175, -0.175]]])"
      ]
     },
     "execution_count": 34,
     "metadata": {},
     "output_type": "execute_result"
    }
   ],
   "source": [
    "cbgs([0,0,0])\n"
   ]
  },
  {
   "cell_type": "code",
   "execution_count": null,
   "metadata": {},
   "outputs": [],
   "source": []
  },
  {
   "cell_type": "code",
   "execution_count": null,
   "metadata": {},
   "outputs": [],
   "source": []
  },
  {
   "cell_type": "code",
   "execution_count": null,
   "metadata": {},
   "outputs": [],
   "source": []
  }
 ],
 "metadata": {
  "kernelspec": {
   "display_name": "Python 3",
   "language": "python",
   "name": "python3"
  },
  "language_info": {
   "codemirror_mode": {
    "name": "ipython",
    "version": 3
   },
   "file_extension": ".py",
   "mimetype": "text/x-python",
   "name": "python",
   "nbconvert_exporter": "python",
   "pygments_lexer": "ipython3",
   "version": "3.6.4"
  }
 },
 "nbformat": 4,
 "nbformat_minor": 2
}
