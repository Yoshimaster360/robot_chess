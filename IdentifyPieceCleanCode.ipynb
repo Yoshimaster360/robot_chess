{
 "cells": [
  {
   "cell_type": "code",
   "execution_count": 63,
   "metadata": {},
   "outputs": [],
   "source": [
    " %matplotlib inline\n",
    "import matplotlib.pyplot as plt\n",
    "import matplotlib.image as mpimg\n",
    "import numpy as np\n",
    "import cv2\n",
    "import mahotas as mh\n",
    "from pylab import imshow, gray, show\n",
    "from PIL import Image\n",
    "import PIL.ImageOps\n",
    "import imutils"
   ]
  },
  {
   "cell_type": "code",
   "execution_count": 96,
   "metadata": {
    "collapsed": true
   },
   "outputs": [],
   "source": [
    "#CODE FROM: https://stackoverflow.com/questions/9506841/using-python-pil-to-turn-a-rgb-image-into-a-pure-black-and-white-image\n",
    "#This is code to binarize the image--basically reduce the image to a simple image of just 0 values and 255 values\n",
    "#This is a type of thresholding\n",
    "\n",
    "from PIL import Image\n",
    "\n",
    "def binarize_image(img_path, target_path, threshold=200):\n",
    "    \"\"\"Binarize an image.\"\"\"\n",
    "    image_file = Image.open(img_path)\n",
    "    image = image_file.convert('L')  # convert image to monochrome\n",
    "    image = np.array(image)\n",
    "    image = binarize_array(image, threshold)\n",
    "    return image\n",
    "    #imsave(target_path, image)\n",
    "\n",
    "\n",
    "def binarize_array(numpy_array, threshold=200):\n",
    "    \"\"\"Binarize a numpy array.\"\"\"\n",
    "    for i in range(len(numpy_array)):\n",
    "        for j in range(len(numpy_array[0])):\n",
    "            if numpy_array[i][j] > threshold:\n",
    "                numpy_array[i][j] = 255\n",
    "            else:\n",
    "                numpy_array[i][j] = 0\n",
    "    return numpy_array"
   ]
  },
  {
   "cell_type": "code",
   "execution_count": 137,
   "metadata": {},
   "outputs": [],
   "source": [
    "#We load and binarize each image of the pieces to use later on\n",
    "pawn = binarize_image('new_pawn.jpg', None)\n",
    "pawn = cv2.resize(pawn, (700, 700))\n",
    "pawn = cv2.bitwise_not(pawn)\n",
    "queen = binarize_image('new_queen.jpg', None)\n",
    "queen = cv2.resize(queen, (700, 700))\n",
    "rook = binarize_image('new_rook.jpg', None)\n",
    "rook = cv2.resize(rook, (700, 700))\n",
    "bishop = binarize_image('new_bishop.jpg', None)\n",
    "bishop = cv2.resize(bishop, (700, 700))\n",
    "board = plt.imread('new_board.jpg')\n",
    "possible_pieces = [['pawn',pawn],['rook',rook], ['queen',queen], ['bishop',bishop]]"
   ]
  },
  {
   "cell_type": "code",
   "execution_count": 132,
   "metadata": {
    "collapsed": true
   },
   "outputs": [],
   "source": [
    "#We define a method to find the letter according to a picture by comparing the squared difference between each picture\n",
    "#and the current picture, the picture with the least difference is your picture!\n",
    "def find_closest_letter(input_image):\n",
    "    input_image = list(input_image.getdata())\n",
    "    least_squared_sum = np.inf\n",
    "    piece = None\n",
    "    for chess in possible_pieces:\n",
    "        piece_name = chess[0]\n",
    "        chess_piece = chess[1].copy()\n",
    "        #chess_piece = cv2.resize(input_image, (input_image.size[0], input_image.size[1]))\n",
    "        squared_difference =  np.sum(np.square(input_image-chess_piece.flatten()))\n",
    "        print(\"piece_name:{}\\t squared_difference:{}\".format(piece_name, squared_difference))\n",
    "        if(squared_difference < least_squared_sum):\n",
    "            least_squared_sum = squared_difference\n",
    "            piece = piece_name\n",
    "    return piece"
   ]
  },
  {
   "cell_type": "code",
   "execution_count": 51,
   "metadata": {},
   "outputs": [
    {
     "data": {
      "text/plain": [
       "<matplotlib.image.AxesImage at 0x1179b0518>"
      ]
     },
     "execution_count": 51,
     "metadata": {},
     "output_type": "execute_result"
    },
    {
     "data": {
      "image/png": "[encoded data removed]",
      "text/plain": [
       "<Figure size 432x288 with 1 Axes>"
      ]
     },
     "metadata": {},
     "output_type": "display_data"
    }
   ],
   "source": [
    "#We take the board image and set it up for analysis by thresholding\n",
    "#This makes the dot/nucleus detection much easier\n",
    "im = cv2.imread('new_board.jpg')\n",
    "imgray = cv2.cvtColor(im,cv2.COLOR_BGR2GRAY)\n",
    "ret,thresh = cv2.threshold(imgray,90,255,0)\n",
    "photo = cv2.bitwise_not(thresh)\n",
    "plt.imshow(photo)"
   ]
  },
  {
   "cell_type": "code",
   "execution_count": 52,
   "metadata": {},
   "outputs": [
    {
     "name": "stdout",
     "output_type": "stream",
     "text": [
      "Found 8078 nuclei.\n"
     ]
    },
    {
     "data": {
      "image/png": "[encoded data removed]",
      "text/plain": [
       "<Figure size 432x288 with 1 Axes>"
      ]
     },
     "metadata": {},
     "output_type": "display_data"
    }
   ],
   "source": [
    "#We find the \"nucleus\" in the image using a library called mahotas\n",
    "labeled, n_nucleus  = mh.label(photo)\n",
    "print('Found {} nuclei.'.format(n_nucleus))\n",
    "imshow(labeled)\n",
    "show()"
   ]
  },
  {
   "cell_type": "code",
   "execution_count": 54,
   "metadata": {},
   "outputs": [
    {
     "data": {
      "image/png": "[encoded data removed]",
      "text/plain": [
       "<Figure size 432x288 with 1 Axes>"
      ]
     },
     "metadata": {},
     "output_type": "display_data"
    }
   ],
   "source": [
    "#We filter out the \"nucleuses\" that are less than a specific size to get the ones associated with the pieces\n",
    "sizes = mh.labeled.labeled_size(labeled)\n",
    "too_small = np.where(sizes < 10000)\n",
    "labeled = mh.labeled.remove_regions(labeled, too_small)\n",
    "imshow(labeled)\n",
    "show()"
   ]
  },
  {
   "cell_type": "code",
   "execution_count": 55,
   "metadata": {},
   "outputs": [
    {
     "data": {
      "image/png": "[encoded data removed]",
      "text/plain": [
       "<Figure size 432x288 with 1 Axes>"
      ]
     },
     "metadata": {},
     "output_type": "display_data"
    }
   ],
   "source": [
    "#We remove the nucleuses on the border to just have the two pieces in our picture\n",
    "labeled = mh.labeled.remove_bordering(labeled)\n",
    "imshow(labeled)\n",
    "show()"
   ]
  },
  {
   "cell_type": "code",
   "execution_count": 61,
   "metadata": {},
   "outputs": [
    {
     "data": {
      "image/png": "[encoded data removed]",
      "text/plain": [
       "<Figure size 432x288 with 1 Axes>"
      ]
     },
     "metadata": {},
     "output_type": "display_data"
    },
    {
     "data": {
      "text/plain": [
       "True"
      ]
     },
     "execution_count": 61,
     "metadata": {},
     "output_type": "execute_result"
    }
   ],
   "source": [
    "#Make it all the same color for ease of analysis and save it in a \"filtered image\"\n",
    "labeled[labeled > 0] = 255\n",
    "imshow(labeled)\n",
    "show()\n",
    "cv2.imwrite(\"filtered.png\", labeled)"
   ]
  },
  {
   "cell_type": "code",
   "execution_count": 124,
   "metadata": {},
   "outputs": [
    {
     "data": {
      "image/png": "[encoded data removed]",
      "text/plain": [
       "<Figure size 432x288 with 1 Axes>"
      ]
     },
     "metadata": {},
     "output_type": "display_data"
    }
   ],
   "source": [
    "#Write code to identify the shapes in the image\n",
    "#Since at this point we literally just have the images of the shapes isolated it should be easier\n",
    "countours = []\n",
    "def find_shapes(image):\n",
    "    im = cv2.imread(image)\n",
    "    imgray = cv2.cvtColor(im,cv2.COLOR_BGR2GRAY)\n",
    "    blurred = cv2.GaussianBlur(imgray, (5, 5), 0)\n",
    "    ret,thresh = cv2.threshold(blurred,100,255,0)\n",
    "    resized = imutils.resize(thresh, width=300)\n",
    "    ratio = im.shape[0] / float(resized.shape[0])\n",
    "    \n",
    "    im2, contours, hierarchy = cv2.findContours(resized.copy(),cv2.RETR_TREE,cv2.CHAIN_APPROX_SIMPLE)\n",
    "    cnts = cv2.findContours(resized.copy(), cv2.RETR_EXTERNAL,\n",
    "        cv2.CHAIN_APPROX_SIMPLE)\n",
    "    cnts = cnts[0] if imutils.is_cv2() else cnts[1]\n",
    "    for c in cnts:\n",
    "        c = c.astype(\"float\")\n",
    "        c *= ratio\n",
    "        c = c.astype(\"int\")\n",
    "        countours.append(c)\n",
    "        cv2.drawContours(im, [c], -1, (0, 255, 0), 2)\n",
    "    plt.imshow(im)\n",
    "    return im \n",
    "\n",
    "answer = find_shapes('filtered.png') "
   ]
  },
  {
   "cell_type": "code",
   "execution_count": 138,
   "metadata": {},
   "outputs": [
    {
     "name": "stdout",
     "output_type": "stream",
     "text": [
      "piece_name:pawn\t squared_difference:15840774907\n",
      "piece_name:rook\t squared_difference:19181480638\n",
      "piece_name:queen\t squared_difference:6191806465\n",
      "piece_name:bishop\t squared_difference:27290136893\n",
      "piece_name:pawn\t squared_difference:5800692547\n",
      "piece_name:rook\t squared_difference:17930066608\n",
      "piece_name:queen\t squared_difference:19339344325\n",
      "piece_name:bishop\t squared_difference:15026459123\n",
      "We identified the following pieces on the board: ['queen', 'pawn']\n"
     ]
    }
   ],
   "source": [
    "#Then we crop out the pieces of interested via the contour coordinates\n",
    "#And then use our earlier method to identify the pieces\n",
    "def get_crop_coordinates(contour):\n",
    "    arr = [i[0] for i in contour]\n",
    "    maximum = max(arr,key=lambda item:item[0]+item[1])\n",
    "    minimum = min(arr,key=lambda item:item[0]+item[1])\n",
    "    return (minimum[0],minimum[1],maximum[0],maximum[1])\n",
    "\n",
    "pieces_identified = []\n",
    "for countour in countours:\n",
    "    coordinates = get_crop_coordinates(countour)\n",
    "    im = Image.open(\"filtered.png\")\n",
    "    img2 = im.crop(coordinates)\n",
    "    img2 = img2.resize((700,700))\n",
    "    #imshow(img2)\n",
    "    #show()\n",
    "    pieces_identified.append(find_closest_letter(img2))\n",
    "\n",
    "print(\"We identified the following pieces on the board: {}\".format(pieces_identified))"
   ]
  },
  {
   "cell_type": "code",
   "execution_count": 139,
   "metadata": {},
   "outputs": [
    {
     "data": {
      "image/png": "[encoded data removed]",
      "text/plain": [
       "<Figure size 432x288 with 1 Axes>"
      ]
     },
     "metadata": {},
     "output_type": "display_data"
    },
    {
     "name": "stdout",
     "output_type": "stream",
     "text": [
      "piece_name:pawn\t squared_difference:5800692547\n",
      "piece_name:rook\t squared_difference:17930066608\n",
      "piece_name:queen\t squared_difference:19339344325\n",
      "piece_name:bishop\t squared_difference:15026459123\n"
     ]
    },
    {
     "data": {
      "text/plain": [
       "'pawn'"
      ]
     },
     "execution_count": 139,
     "metadata": {},
     "output_type": "execute_result"
    }
   ],
   "source": [
    "imshow(img2)\n",
    "show()\n",
    "find_closest_letter(img2)"
   ]
  },
  {
   "cell_type": "code",
   "execution_count": 136,
   "metadata": {},
   "outputs": [
    {
     "data": {
      "text/plain": [
       "<matplotlib.image.AxesImage at 0x12172bf60>"
      ]
     },
     "execution_count": 136,
     "metadata": {},
     "output_type": "execute_result"
    },
    {
     "data": {
      "image/png": "[encoded data removed]",
      "text/plain": [
       "<Figure size 432x288 with 1 Axes>"
      ]
     },
     "metadata": {},
     "output_type": "display_data"
    }
   ],
   "source": [
    "plt.imshow()"
   ]
  },
  {
   "cell_type": "code",
   "execution_count": null,
   "metadata": {
    "collapsed": true
   },
   "outputs": [],
   "source": []
  }
 ],
 "metadata": {
  "anaconda-cloud": {},
  "kernelspec": {
   "display_name": "Python 3",
   "language": "python",
   "name": "python3"
  },
  "language_info": {
   "codemirror_mode": {
    "name": "ipython",
    "version": 3
   },
   "file_extension": ".py",
   "mimetype": "text/x-python",
   "name": "python",
   "nbconvert_exporter": "python",
   "pygments_lexer": "ipython3",
   "version": "3.6.4"
  }
 },
 "nbformat": 4,
 "nbformat_minor": 2
}
